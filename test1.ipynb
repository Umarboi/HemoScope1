{
 "cells": [
  {
   "cell_type": "code",
   "execution_count": 5,
   "metadata": {},
   "outputs": [],
   "source": [
    "import numpy as np\n",
    "import pickle\n",
    "import cv2 as cv\n",
    "import os\n",
    "import tensorflow\n",
    "import matplotlib.pyplot as plt\n",
    "import seaborn as sns\n",
    "from tensorflow.keras import utils\n",
    "from sklearn.model_selection import train_test_split\n",
    "from keras.models import Sequential\n",
    "from keras.layers import Conv2D,Dropout,Flatten,Dense,MaxPool2D\n",
    "from sklearn.metrics import classification_report,confusion_matrix,accuracy_score\n",
    "from sklearn.ensemble import RandomForestClassifier\n",
    "from sklearn.model_selection import StratifiedKFold\n",
    "from sklearn.preprocessing import LabelEncoder\n",
    "from keras.applications.vgg16 import VGG16, preprocess_input"
   ]
  },
  {
   "cell_type": "code",
   "execution_count": 6,
   "metadata": {},
   "outputs": [],
   "source": [
    "Categories = [\"Anemia\" , \"Non Anemia\"]\n",
    "data_dir = 'C:\\\\Users\\\\HP\\\\Desktop\\\\Model deployment\\\\final dataset'\n",
    "data = []                                                        \n",
    "for category in Categories:\n",
    "  path = os.path.join(data_dir,category)\n",
    "  class_num = Categories.index(category)\n",
    "  for img in os.listdir(path):\n",
    "    img_arr = cv.imread(os.path.join(path,img))\n",
    "    re = cv.resize(img_arr,(100,100))\n",
    "    data.append([re,class_num])"
   ]
  },
  {
   "cell_type": "code",
   "execution_count": 7,
   "metadata": {},
   "outputs": [
    {
     "name": "stdout",
     "output_type": "stream",
     "text": [
      "Shape of x_data: (3604, 100, 100, 3)\n",
      "Shape of y_data: (3604,)\n"
     ]
    }
   ],
   "source": [
    "import cv2\n",
    "import numpy as np\n",
    "\n",
    "# Assuming 'data' is a list of tuples containing (image, label) pairs\n",
    "np.random.shuffle(data)\n",
    "\n",
    "x_data = []  # Initialize list to store converted images\n",
    "y_data = []  # Initialize list to store labels\n",
    "\n",
    "# Iterate through the data list and append the converted images to x_data and labels to y_data\n",
    "for features, labels in data:\n",
    "    # Convert RGB image to LAB color space\n",
    "    lab_image = cv2.cvtColor(features, cv2.COLOR_RGB2LAB)\n",
    "\n",
    "    # Append the LAB image to x_data\n",
    "    x_data.append(lab_image)\n",
    "\n",
    "    # Append the label to y_data\n",
    "    y_data.append(labels)\n",
    "\n",
    "# Convert the lists to NumPy arrays\n",
    "x_data = np.array(x_data)\n",
    "y_data = np.array(y_data)\n",
    "\n",
    "# Print the shapes of x_data and y_data\n",
    "print(f\"Shape of x_data: {x_data.shape}\")\n",
    "print(f\"Shape of y_data: {y_data.shape}\")\n"
   ]
  },
  {
   "cell_type": "code",
   "execution_count": 8,
   "metadata": {},
   "outputs": [
    {
     "name": "stderr",
     "output_type": "stream",
     "text": [
      "c:\\Users\\HP\\AppData\\Local\\Programs\\Python\\Python312\\Lib\\site-packages\\keras\\src\\layers\\convolutional\\base_conv.py:99: UserWarning: Do not pass an `input_shape`/`input_dim` argument to a layer. When using Sequential models, prefer using an `Input(shape)` object as the first layer in the model instead.\n",
      "  super().__init__(\n"
     ]
    },
    {
     "name": "stdout",
     "output_type": "stream",
     "text": [
      "\u001b[1m113/113\u001b[0m \u001b[32m━━━━━━━━━━━━━━━━━━━━\u001b[0m\u001b[37m\u001b[0m \u001b[1m11s\u001b[0m 92ms/step\n"
     ]
    },
    {
     "name": "stderr",
     "output_type": "stream",
     "text": [
      "WARNING:absl:You are saving your model as an HDF5 file via `model.save()` or `keras.saving.save_model(model)`. This file format is considered legacy. We recommend using instead the native Keras format, e.g. `model.save('my_model.keras')` or `keras.saving.save_model(model, 'my_model.keras')`. \n"
     ]
    },
    {
     "name": "stdout",
     "output_type": "stream",
     "text": [
      "Validation Accuracy: 82.01%\n",
      "Validation Accuracy: 88.58%\n",
      "Validation Accuracy: 88.58%\n",
      "Validation Accuracy: 86.11%\n",
      "Validation Accuracy: 85.07%\n",
      "Validation Accuracy: 84.38%\n",
      "Validation Accuracy: 82.29%\n",
      "Validation Accuracy: 87.50%\n",
      "Validation Accuracy: 84.03%\n",
      "Validation Accuracy: 83.33%\n",
      "(721, 2)\n",
      "Total Accuracy: 84.19%\n"
     ]
    }
   ],
   "source": [
    "from keras.models import Sequential\n",
    "from keras.layers import Conv2D, MaxPooling2D, Flatten, Dense\n",
    "import cv2\n",
    "import numpy as np\n",
    "import pickle\n",
    "from sklearn.ensemble import RandomForestClassifier\n",
    "from sklearn.model_selection import train_test_split\n",
    "from sklearn.preprocessing import LabelEncoder\n",
    "\n",
    "# Load the CNN model\n",
    "input_shape = (100, 100, 3)  # Assuming the user's input image has shape (100, 100, 3)\n",
    "cnn_model = Sequential()\n",
    "cnn_model.add(Conv2D(32, (3, 3), input_shape=input_shape, activation='relu'))\n",
    "cnn_model.add(MaxPooling2D(pool_size=(2, 2)))\n",
    "cnn_model.add(Conv2D(64, (3, 3), activation='relu'))\n",
    "cnn_model.add(MaxPooling2D(pool_size=(2, 2)))\n",
    "cnn_model.add(Flatten())\n",
    "cnn_model.add(Dense(64, activation='relu'))\n",
    "cnn_model.add(Dense(2, activation='sigmoid'))\n",
    "cnn_model.compile(optimizer='adam', loss='binary_crossentropy', metrics=['accuracy'])\n",
    "\n",
    "\n",
    "features = cnn_model.predict(x_data)\n",
    "features_flatten = features.reshape(features.shape[0], -1)\n",
    "# Save the model\n",
    "cnn_model=cnn_model.save('cnn_model.h5')\n",
    "\n",
    "label_encoder = LabelEncoder()\n",
    "encoded_labels = label_encoder.fit_transform(y_data)\n",
    "\n",
    "# Save the label encoder\n",
    "with open('label_encoder.pkl', 'wb') as file:\n",
    "    pickle.dump(label_encoder, file)\n",
    "\n",
    "\n",
    "\n",
    "#random forest\n",
    "X_train, X_test, y_train, y_test = train_test_split(features_flatten, encoded_labels, test_size=0.2, random_state=42)\n",
    "from sklearn.ensemble import RandomForestClassifier\n",
    "from sklearn.model_selection import StratifiedKFold\n",
    "from sklearn.metrics import accuracy_score, confusion_matrix, classification_report\n",
    "\n",
    "\n",
    "\n",
    "# Initialize Random Forest classifier\n",
    "rf_model = RandomForestClassifier(n_estimators=100, random_state=42)\n",
    "# Perform 10-fold cross-validation\n",
    "skf = StratifiedKFold(n_splits=10, shuffle=True, random_state=42)\n",
    "\n",
    "for train_index, test_index in skf.split(X_train, y_train):\n",
    "    X_train_fold, X_val_fold = X_train[train_index], X_train[test_index]\n",
    "    y_train_fold, y_val_fold = y_train[train_index], y_train[test_index]\n",
    "\n",
    "    # Fit the model on the training fold\n",
    "    rf_model.fit(X_train_fold, y_train_fold)\n",
    "\n",
    "    # Predict on the validation fold\n",
    "    y_pred_val = rf_model.predict(X_val_fold)\n",
    "\n",
    "    # Evaluate the model on the validation fold\n",
    "    accuracy_val = accuracy_score(y_val_fold, y_pred_val)\n",
    "    print(f'Validation Accuracy: {accuracy_val * 100:.2f}%')\n",
    "\n",
    "# Save the model\n",
    "import joblib\n",
    "joblib.dump(rf_model, 'rf_model.pkl')\n",
    "\n",
    " \n",
    "# After training on all folds, you can evaluate the model on the entire dataset\n",
    "y_pred = rf_model.predict(X_test)\n",
    "print(X_test.shape)\n",
    "\n",
    "# Calculate and print accuracy\n",
    "accuracy = accuracy_score(y_test, y_pred)\n",
    "print(f'Total Accuracy: {accuracy * 100:.2f}%')\n",
    "\n",
    "\n"
   ]
  },
  {
   "cell_type": "code",
   "execution_count": null,
   "metadata": {},
   "outputs": [],
   "source": []
  }
 ],
 "metadata": {
  "kernelspec": {
   "display_name": "Python 3",
   "language": "python",
   "name": "python3"
  },
  "language_info": {
   "codemirror_mode": {
    "name": "ipython",
    "version": 3
   },
   "file_extension": ".py",
   "mimetype": "text/x-python",
   "name": "python",
   "nbconvert_exporter": "python",
   "pygments_lexer": "ipython3",
   "version": "3.12.2"
  }
 },
 "nbformat": 4,
 "nbformat_minor": 2
}
